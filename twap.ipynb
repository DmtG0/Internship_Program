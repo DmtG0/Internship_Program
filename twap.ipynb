{
 "cells": [
  {
   "cell_type": "code",
   "execution_count": 1,
   "id": "8efed27e",
   "metadata": {},
   "outputs": [],
   "source": [
    "import requests\n",
    "import pandas as pd\n",
    "import datetime as dt"
   ]
  },
  {
   "cell_type": "markdown",
   "id": "d9fcf292",
   "metadata": {},
   "source": [
    "### LDO"
   ]
  },
  {
   "cell_type": "code",
   "execution_count": 2,
   "id": "72b91aed",
   "metadata": {},
   "outputs": [],
   "source": [
    "token_id='lido-dao'"
   ]
  },
  {
   "cell_type": "code",
   "execution_count": 3,
   "id": "14762119",
   "metadata": {},
   "outputs": [],
   "source": [
    "twap_time=14"
   ]
  },
  {
   "cell_type": "code",
   "execution_count": 4,
   "id": "7bb0f17c",
   "metadata": {},
   "outputs": [],
   "source": [
    "start = pd.Timestamp((pd.Timestamp.now() - pd.Timedelta(days=twap_time)).strftime(\"%Y-%m-%d\")).timestamp()\n",
    "finsh = pd.Timestamp(pd.Timestamp.now().strftime(\"%Y-%m-%d\")).timestamp()"
   ]
  },
  {
   "cell_type": "code",
   "execution_count": 5,
   "id": "ce644c94",
   "metadata": {},
   "outputs": [],
   "source": [
    "response= requests.get('https://api.coingecko.com/api/v3/coins/{}/market_chart/range?vs_currency=usd&from={}&to={}'.format(token_id,start,finsh))\n",
    "r=response.json()"
   ]
  },
  {
   "cell_type": "code",
   "execution_count": 6,
   "id": "a71a7898",
   "metadata": {},
   "outputs": [
    {
     "data": {
      "text/html": [
       "<div>\n",
       "<style scoped>\n",
       "    .dataframe tbody tr th:only-of-type {\n",
       "        vertical-align: middle;\n",
       "    }\n",
       "\n",
       "    .dataframe tbody tr th {\n",
       "        vertical-align: top;\n",
       "    }\n",
       "\n",
       "    .dataframe thead th {\n",
       "        text-align: right;\n",
       "    }\n",
       "</style>\n",
       "<table border=\"1\" class=\"dataframe\">\n",
       "  <thead>\n",
       "    <tr style=\"text-align: right;\">\n",
       "      <th></th>\n",
       "      <th>date</th>\n",
       "      <th>prices</th>\n",
       "    </tr>\n",
       "  </thead>\n",
       "  <tbody>\n",
       "    <tr>\n",
       "      <th>0</th>\n",
       "      <td>1642724557185</td>\n",
       "      <td>2.160210</td>\n",
       "    </tr>\n",
       "    <tr>\n",
       "      <th>1</th>\n",
       "      <td>1642728158337</td>\n",
       "      <td>2.163096</td>\n",
       "    </tr>\n",
       "    <tr>\n",
       "      <th>2</th>\n",
       "      <td>1642731823710</td>\n",
       "      <td>2.082390</td>\n",
       "    </tr>\n",
       "    <tr>\n",
       "      <th>3</th>\n",
       "      <td>1642735320259</td>\n",
       "      <td>2.072863</td>\n",
       "    </tr>\n",
       "    <tr>\n",
       "      <th>4</th>\n",
       "      <td>1642738571866</td>\n",
       "      <td>2.017946</td>\n",
       "    </tr>\n",
       "  </tbody>\n",
       "</table>\n",
       "</div>"
      ],
      "text/plain": [
       "            date    prices\n",
       "0  1642724557185  2.160210\n",
       "1  1642728158337  2.163096\n",
       "2  1642731823710  2.082390\n",
       "3  1642735320259  2.072863\n",
       "4  1642738571866  2.017946"
      ]
     },
     "execution_count": 6,
     "metadata": {},
     "output_type": "execute_result"
    }
   ],
   "source": [
    "df = pd.DataFrame(r, columns=['prices'])\n",
    "df = pd.DataFrame(df['prices'].to_list(), columns=['date','prices'])\n",
    "df.head()"
   ]
  },
  {
   "cell_type": "code",
   "execution_count": 7,
   "id": "cdc1c2a2",
   "metadata": {},
   "outputs": [
    {
     "data": {
      "text/html": [
       "<div>\n",
       "<style scoped>\n",
       "    .dataframe tbody tr th:only-of-type {\n",
       "        vertical-align: middle;\n",
       "    }\n",
       "\n",
       "    .dataframe tbody tr th {\n",
       "        vertical-align: top;\n",
       "    }\n",
       "\n",
       "    .dataframe thead th {\n",
       "        text-align: right;\n",
       "    }\n",
       "</style>\n",
       "<table border=\"1\" class=\"dataframe\">\n",
       "  <thead>\n",
       "    <tr style=\"text-align: right;\">\n",
       "      <th></th>\n",
       "      <th>date</th>\n",
       "      <th>prices</th>\n",
       "    </tr>\n",
       "  </thead>\n",
       "  <tbody>\n",
       "    <tr>\n",
       "      <th>0</th>\n",
       "      <td>2022-01-21</td>\n",
       "      <td>2.160210</td>\n",
       "    </tr>\n",
       "    <tr>\n",
       "      <th>1</th>\n",
       "      <td>2022-01-21</td>\n",
       "      <td>2.163096</td>\n",
       "    </tr>\n",
       "    <tr>\n",
       "      <th>2</th>\n",
       "      <td>2022-01-21</td>\n",
       "      <td>2.082390</td>\n",
       "    </tr>\n",
       "    <tr>\n",
       "      <th>3</th>\n",
       "      <td>2022-01-21</td>\n",
       "      <td>2.072863</td>\n",
       "    </tr>\n",
       "    <tr>\n",
       "      <th>4</th>\n",
       "      <td>2022-01-21</td>\n",
       "      <td>2.017946</td>\n",
       "    </tr>\n",
       "  </tbody>\n",
       "</table>\n",
       "</div>"
      ],
      "text/plain": [
       "         date    prices\n",
       "0  2022-01-21  2.160210\n",
       "1  2022-01-21  2.163096\n",
       "2  2022-01-21  2.082390\n",
       "3  2022-01-21  2.072863\n",
       "4  2022-01-21  2.017946"
      ]
     },
     "execution_count": 7,
     "metadata": {},
     "output_type": "execute_result"
    }
   ],
   "source": [
    "df['date']= pd.to_datetime(df['date'], unit='ms')\n",
    "df['date']= df['date'].dt.date\n",
    "df.head()"
   ]
  },
  {
   "cell_type": "code",
   "execution_count": 8,
   "id": "6ba623db",
   "metadata": {},
   "outputs": [
    {
     "data": {
      "text/html": [
       "<div>\n",
       "<style scoped>\n",
       "    .dataframe tbody tr th:only-of-type {\n",
       "        vertical-align: middle;\n",
       "    }\n",
       "\n",
       "    .dataframe tbody tr th {\n",
       "        vertical-align: top;\n",
       "    }\n",
       "\n",
       "    .dataframe thead th {\n",
       "        text-align: right;\n",
       "    }\n",
       "</style>\n",
       "<table border=\"1\" class=\"dataframe\">\n",
       "  <thead>\n",
       "    <tr style=\"text-align: right;\">\n",
       "      <th></th>\n",
       "      <th>prices</th>\n",
       "    </tr>\n",
       "    <tr>\n",
       "      <th>date</th>\n",
       "      <th></th>\n",
       "    </tr>\n",
       "  </thead>\n",
       "  <tbody>\n",
       "    <tr>\n",
       "      <th>2022-01-21</th>\n",
       "      <td>2.038480</td>\n",
       "    </tr>\n",
       "    <tr>\n",
       "      <th>2022-01-22</th>\n",
       "      <td>1.803894</td>\n",
       "    </tr>\n",
       "    <tr>\n",
       "      <th>2022-01-23</th>\n",
       "      <td>1.716416</td>\n",
       "    </tr>\n",
       "    <tr>\n",
       "      <th>2022-01-24</th>\n",
       "      <td>1.550872</td>\n",
       "    </tr>\n",
       "    <tr>\n",
       "      <th>2022-01-25</th>\n",
       "      <td>1.632865</td>\n",
       "    </tr>\n",
       "    <tr>\n",
       "      <th>2022-01-26</th>\n",
       "      <td>1.611285</td>\n",
       "    </tr>\n",
       "    <tr>\n",
       "      <th>2022-01-27</th>\n",
       "      <td>1.719232</td>\n",
       "    </tr>\n",
       "    <tr>\n",
       "      <th>2022-01-28</th>\n",
       "      <td>1.585417</td>\n",
       "    </tr>\n",
       "    <tr>\n",
       "      <th>2022-01-29</th>\n",
       "      <td>1.714146</td>\n",
       "    </tr>\n",
       "    <tr>\n",
       "      <th>2022-01-30</th>\n",
       "      <td>1.791296</td>\n",
       "    </tr>\n",
       "    <tr>\n",
       "      <th>2022-01-31</th>\n",
       "      <td>1.935712</td>\n",
       "    </tr>\n",
       "    <tr>\n",
       "      <th>2022-02-01</th>\n",
       "      <td>2.027267</td>\n",
       "    </tr>\n",
       "    <tr>\n",
       "      <th>2022-02-02</th>\n",
       "      <td>2.048089</td>\n",
       "    </tr>\n",
       "    <tr>\n",
       "      <th>2022-02-03</th>\n",
       "      <td>1.963458</td>\n",
       "    </tr>\n",
       "  </tbody>\n",
       "</table>\n",
       "</div>"
      ],
      "text/plain": [
       "              prices\n",
       "date                \n",
       "2022-01-21  2.038480\n",
       "2022-01-22  1.803894\n",
       "2022-01-23  1.716416\n",
       "2022-01-24  1.550872\n",
       "2022-01-25  1.632865\n",
       "2022-01-26  1.611285\n",
       "2022-01-27  1.719232\n",
       "2022-01-28  1.585417\n",
       "2022-01-29  1.714146\n",
       "2022-01-30  1.791296\n",
       "2022-01-31  1.935712\n",
       "2022-02-01  2.027267\n",
       "2022-02-02  2.048089\n",
       "2022-02-03  1.963458"
      ]
     },
     "execution_count": 8,
     "metadata": {},
     "output_type": "execute_result"
    }
   ],
   "source": [
    "df_1=df.groupby('date').agg({'prices':'mean'})\n",
    "df_1"
   ]
  },
  {
   "cell_type": "code",
   "execution_count": 9,
   "id": "5c657055",
   "metadata": {},
   "outputs": [
    {
     "data": {
      "text/plain": [
       "1.8"
      ]
     },
     "execution_count": 9,
     "metadata": {},
     "output_type": "execute_result"
    }
   ],
   "source": [
    "twap_ldo = (df_1.prices.sum()/twap_time).round(2)\n",
    "twap_ldo"
   ]
  },
  {
   "cell_type": "markdown",
   "id": "bbe913fd",
   "metadata": {},
   "source": [
    "### Ethereum"
   ]
  },
  {
   "cell_type": "code",
   "execution_count": 10,
   "id": "7c98ef08",
   "metadata": {},
   "outputs": [],
   "source": [
    "token_id='ethereum'"
   ]
  },
  {
   "cell_type": "code",
   "execution_count": 11,
   "id": "3afe6651",
   "metadata": {},
   "outputs": [],
   "source": [
    "twap_time=14"
   ]
  },
  {
   "cell_type": "code",
   "execution_count": 12,
   "id": "ea38d147",
   "metadata": {},
   "outputs": [],
   "source": [
    "start = pd.Timestamp((pd.Timestamp.now() - pd.Timedelta(days=twap_time)).strftime(\"%Y-%m-%d\")).timestamp()\n",
    "finsh = pd.Timestamp(pd.Timestamp.now().strftime(\"%Y-%m-%d\")).timestamp()"
   ]
  },
  {
   "cell_type": "code",
   "execution_count": 13,
   "id": "72bca31e",
   "metadata": {},
   "outputs": [],
   "source": [
    "response= requests.get('https://api.coingecko.com/api/v3/coins/{}/market_chart/range?vs_currency=usd&from={}&to={}'.format(token_id,start,finsh))\n",
    "r=response.json()"
   ]
  },
  {
   "cell_type": "code",
   "execution_count": 14,
   "id": "b304362c",
   "metadata": {},
   "outputs": [],
   "source": [
    "df = pd.DataFrame(r, columns=['prices'])\n",
    "df = pd.DataFrame(df['prices'].to_list(), columns=['date','prices'])"
   ]
  },
  {
   "cell_type": "code",
   "execution_count": 15,
   "id": "10326e6a",
   "metadata": {},
   "outputs": [],
   "source": [
    "df['date']= pd.to_datetime(df['date'], unit='ms')\n",
    "df['date']= df['date'].dt.date"
   ]
  },
  {
   "cell_type": "code",
   "execution_count": 16,
   "id": "87292b78",
   "metadata": {},
   "outputs": [],
   "source": [
    "df_1=df.groupby('date').agg({'prices':'mean'})"
   ]
  },
  {
   "cell_type": "code",
   "execution_count": 17,
   "id": "bc8a554f",
   "metadata": {},
   "outputs": [
    {
     "data": {
      "text/plain": [
       "2560.15"
      ]
     },
     "execution_count": 17,
     "metadata": {},
     "output_type": "execute_result"
    }
   ],
   "source": [
    "twap_eth = (df_1.prices.sum()/twap_time).round(2)\n",
    "twap_eth"
   ]
  },
  {
   "cell_type": "code",
   "execution_count": null,
   "id": "11eed8fb",
   "metadata": {},
   "outputs": [],
   "source": []
  },
  {
   "cell_type": "code",
   "execution_count": null,
   "id": "385ba90d",
   "metadata": {},
   "outputs": [],
   "source": []
  }
 ],
 "metadata": {
  "kernelspec": {
   "display_name": "Python 3 (ipykernel)",
   "language": "python",
   "name": "python3"
  },
  "language_info": {
   "codemirror_mode": {
    "name": "ipython",
    "version": 3
   },
   "file_extension": ".py",
   "mimetype": "text/x-python",
   "name": "python",
   "nbconvert_exporter": "python",
   "pygments_lexer": "ipython3",
   "version": "3.10.2"
  }
 },
 "nbformat": 4,
 "nbformat_minor": 5
}
